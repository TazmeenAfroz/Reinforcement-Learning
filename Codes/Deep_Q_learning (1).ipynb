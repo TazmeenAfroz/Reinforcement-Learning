{
  "nbformat": 4,
  "nbformat_minor": 0,
  "metadata": {
    "colab": {
      "provenance": []
    },
    "kernelspec": {
      "name": "python3",
      "display_name": "Python 3"
    },
    "language_info": {
      "name": "python"
    }
  },
  "cells": [
    {
      "cell_type": "code",
      "execution_count": null,
      "metadata": {
        "colab": {
          "base_uri": "https://localhost:8080/"
        },
        "id": "JoWQgD6U5hEt",
        "outputId": "11d36f32-0acf-4b19-d4c8-35de410adfda"
      },
      "outputs": [
        {
          "output_type": "stream",
          "name": "stderr",
          "text": [
            "<ipython-input-1-8f84343d27db>:74: UserWarning: Creating a tensor from a list of numpy.ndarrays is extremely slow. Please consider converting the list to a single numpy.ndarray with numpy.array() before converting to a tensor. (Triggered internally at /pytorch/torch/csrc/utils/tensor_new.cpp:254.)\n",
            "  states = torch.FloatTensor(states)\n"
          ]
        }
      ],
      "source": [
        "import gymnasium as gym\n",
        "import numpy as np\n",
        "import torch\n",
        "import torch.nn as nn\n",
        "import torch.optim as optim\n",
        "import random\n",
        "from collections import deque\n",
        "import matplotlib.pyplot as plt\n",
        "\n",
        "\n",
        "# 1. Create the environment\n",
        "env = gym.make(\"CartPole-v1\")\n",
        "\n",
        "# 2. Define the Neural Network\n",
        "class QNetwork(nn.Module):\n",
        "    def __init__(self, state_size, action_size):\n",
        "        super(QNetwork, self).__init__()\n",
        "        self.fc1 = nn.Linear(state_size, 24)   # First hidden layer\n",
        "        self.fc2 = nn.Linear(24, 24)            # Second hidden layer\n",
        "        self.fc3 = nn.Linear(24, action_size)   # Output layer (one Q-value per action)\n",
        "\n",
        "    def forward(self, x):\n",
        "        x = torch.relu(self.fc1(x))\n",
        "        x = torch.relu(self.fc2(x))\n",
        "        return self.fc3(x)\n",
        "\n",
        "# 3. Hyperparameters\n",
        "state_size = env.observation_space.shape[0]\n",
        "action_size = env.action_space.n\n",
        "gamma = 0.99            # Discount factor\n",
        "epsilon = 1.0           # Exploration rate\n",
        "epsilon_min = 0.01\n",
        "epsilon_decay = 0.995\n",
        "learning_rate = 0.001\n",
        "batch_size = 64\n",
        "memory = deque(maxlen=10000)\n",
        "\n",
        "# 4. Initialize network and optimizer\n",
        "qnetwork = QNetwork(state_size, action_size)\n",
        "optimizer = optim.Adam(qnetwork.parameters(), lr=learning_rate)\n",
        "loss_fn = nn.MSELoss()\n",
        "\n",
        "# 5. Helper function to choose action\n",
        "def act(state, epsilon):\n",
        "    if random.random() <= epsilon:\n",
        "        return random.choice(range(action_size))   # Explore\n",
        "    state = torch.FloatTensor(state).unsqueeze(0)\n",
        "    with torch.no_grad():\n",
        "        q_values = qnetwork(state)\n",
        "    return torch.argmax(q_values).item()           # Exploit\n",
        "\n",
        "# 6. Training Loop\n",
        "episodes = 500\n",
        "rewards_per_episode = []\n",
        "\n",
        "for e in range(episodes):\n",
        "    state, _ = env.reset()\n",
        "    total_reward = 0\n",
        "    done = False\n",
        "\n",
        "    while not done:\n",
        "        action = act(state, epsilon)\n",
        "        next_state, reward, terminated, truncated, _ = env.step(action)\n",
        "        done = terminated or truncated\n",
        "        memory.append((state, action, reward, next_state, done))\n",
        "        state = next_state\n",
        "        total_reward += reward\n",
        "\n",
        "        # Learning from a minibatch\n",
        "        if len(memory) >= batch_size:\n",
        "            minibatch = random.sample(memory, batch_size)\n",
        "            states, actions, rewards, next_states, dones = zip(*minibatch)\n",
        "\n",
        "            states = torch.FloatTensor(states)\n",
        "            actions = torch.LongTensor(actions).unsqueeze(1)\n",
        "            rewards = torch.FloatTensor(rewards).unsqueeze(1)\n",
        "            next_states = torch.FloatTensor(next_states)\n",
        "            dones = torch.FloatTensor(dones).unsqueeze(1)\n",
        "\n",
        "            q_values = qnetwork(states).gather(1, actions)\n",
        "            with torch.no_grad():\n",
        "                q_next = qnetwork(next_states).max(1)[0].unsqueeze(1)\n",
        "                q_targets = rewards + gamma * q_next * (1 - dones)\n",
        "\n",
        "            loss = loss_fn(q_values, q_targets)\n",
        "            optimizer.zero_grad()\n",
        "            loss.backward()\n",
        "            optimizer.step()\n",
        "    rewards_per_episode.append(total_reward)\n",
        "\n",
        "\n",
        "    # Decay epsilon\n",
        "    if epsilon > epsilon_min:\n",
        "        epsilon *= epsilon_decay\n",
        "\n",
        "    if (e + 1) % 10 == 0:\n",
        "        print(f\"Episode {e+1}: Total Reward = {total_reward:.2f}, Epsilon = {epsilon:.3f}\")\n",
        "    # Plotting Rewards\n",
        "\n",
        "env.close()\n",
        "plt.figure(figsize=(10,5))\n",
        "plt.plot(rewards_per_episode, label='Total Reward per Episode')\n",
        "plt.xlabel('Episode')\n",
        "plt.ylabel('Total Reward')\n",
        "plt.title('Deep Q-Learning Performance on CartPole')\n",
        "plt.legend()\n",
        "plt.grid()\n",
        "plt.show()\n",
        "\n"
      ]
    },
    {
      "cell_type": "code",
      "source": [],
      "metadata": {
        "id": "9PEcPZpF7JEo"
      },
      "execution_count": null,
      "outputs": []
    }
  ]
}