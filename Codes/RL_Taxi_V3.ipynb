{
 "cells": [
  {
   "cell_type": "code",
   "execution_count": 1,
   "metadata": {
    "colab": {
     "base_uri": "https://localhost:8080/"
    },
    "id": "TaItZpjzyRsP",
    "outputId": "8574ddb5-6598-4bff-803b-f0e36b09d4d2"
   },
   "outputs": [
    {
     "name": "stdout",
     "output_type": "stream",
     "text": [
      "Requirement already satisfied: gymnasium in /home/sara/anaconda3/lib/python3.8/site-packages (1.0.0)\n",
      "Requirement already satisfied: farama-notifications>=0.0.1 in /home/sara/anaconda3/lib/python3.8/site-packages (from gymnasium) (0.0.4)\n",
      "Requirement already satisfied: importlib-metadata>=4.8.0 in /home/sara/anaconda3/lib/python3.8/site-packages (from gymnasium) (4.11.3)\n",
      "Requirement already satisfied: numpy>=1.21.0 in /home/sara/anaconda3/lib/python3.8/site-packages (from gymnasium) (1.21.2)\n",
      "Requirement already satisfied: cloudpickle>=1.2.0 in /home/sara/anaconda3/lib/python3.8/site-packages (from gymnasium) (2.0.0)\n",
      "Requirement already satisfied: typing-extensions>=4.3.0 in /home/sara/anaconda3/lib/python3.8/site-packages (from gymnasium) (4.12.2)\n",
      "Requirement already satisfied: zipp>=0.5 in /home/sara/anaconda3/lib/python3.8/site-packages (from importlib-metadata>=4.8.0->gymnasium) (3.6.0)\n",
      "Note: you may need to restart the kernel to use updated packages.\n"
     ]
    }
   ],
   "source": [
    "pip install gymnasium\n"
   ]
  },
  {
   "cell_type": "code",
   "execution_count": 2,
   "metadata": {
    "id": "IPOxnloJibts"
   },
   "outputs": [],
   "source": [
    "import gymnasium as gym\n",
    "import numpy as np\n",
    "import gym\n",
    "import matplotlib.pyplot as plt\n"
   ]
  },
  {
   "cell_type": "code",
   "execution_count": 3,
   "metadata": {
    "colab": {
     "base_uri": "https://localhost:8080/"
    },
    "id": "9NQuGYW-jp4S",
    "outputId": "fc44fcff-213e-4e03-e89e-128f969a6767"
   },
   "outputs": [],
   "source": [
    "env=gym.make(\"Taxi-v3\")"
   ]
  },
  {
   "cell_type": "code",
   "execution_count": 6,
   "metadata": {
    "colab": {
     "base_uri": "https://localhost:8080/"
    },
    "id": "Em3gJOYhEO8Q",
    "outputId": "781d77a5-e63f-45f3-8169-1f7846574db4"
   },
   "outputs": [
    {
     "data": {
      "text/plain": [
       "9"
      ]
     },
     "execution_count": 6,
     "metadata": {},
     "output_type": "execute_result"
    }
   ],
   "source": [
    "env.reset()\n"
   ]
  },
  {
   "cell_type": "code",
   "execution_count": 7,
   "metadata": {
    "colab": {
     "base_uri": "https://localhost:8080/"
    },
    "id": "irWnjWsrzf9-",
    "outputId": "37cb0919-8344-4134-8de0-28eef0210bf0"
   },
   "outputs": [
    {
     "name": "stdout",
     "output_type": "stream",
     "text": [
      "+---------+\n",
      "|\u001b[43mR\u001b[0m: | : :\u001b[35mG\u001b[0m|\n",
      "| : | : : |\n",
      "| : : : : |\n",
      "| | : | : |\n",
      "|\u001b[34;1mY\u001b[0m| : |B: |\n",
      "+---------+\n",
      "\n"
     ]
    }
   ],
   "source": [
    "img=env.render(mode=\"human\")\n"
   ]
  },
  {
   "cell_type": "code",
   "execution_count": null,
   "metadata": {
    "colab": {
     "base_uri": "https://localhost:8080/",
     "height": 381
    },
    "id": "vWqS2Z2kz7LG",
    "outputId": "5c143552-bbb3-42db-e046-add018858af4"
   },
   "outputs": [],
   "source": [
    "plt.imshow(img)\n",
    "plt.show()"
   ]
  },
  {
   "cell_type": "markdown",
   "metadata": {
    "id": "asnXinoAfu3I"
   },
   "source": [
    "There are 500 states and 6 actions."
   ]
  },
  {
   "cell_type": "code",
   "execution_count": 8,
   "metadata": {
    "id": "tAeVwmD_lJbO"
   },
   "outputs": [],
   "source": [
    "n_states=env.observation_space.n\n",
    "n_actions=env.action_space.n"
   ]
  },
  {
   "cell_type": "code",
   "execution_count": 9,
   "metadata": {},
   "outputs": [
    {
     "data": {
      "text/plain": [
       "(500, 6)"
      ]
     },
     "execution_count": 9,
     "metadata": {},
     "output_type": "execute_result"
    }
   ],
   "source": [
    "n_states, n_actions"
   ]
  },
  {
   "cell_type": "code",
   "execution_count": 10,
   "metadata": {
    "id": "O6Jpf6jgDzE8"
   },
   "outputs": [],
   "source": [
    "Q=np.zeros([n_states,n_actions])"
   ]
  },
  {
   "cell_type": "code",
   "execution_count": 9,
   "metadata": {
    "colab": {
     "base_uri": "https://localhost:8080/"
    },
    "id": "xyJs0vS7EjXu",
    "outputId": "12f7b9e6-b6ce-40b9-d72f-814121b4978b"
   },
   "outputs": [
    {
     "data": {
      "text/plain": [
       "array([[0., 0., 0., 0., 0., 0.],\n",
       "       [0., 0., 0., 0., 0., 0.],\n",
       "       [0., 0., 0., 0., 0., 0.],\n",
       "       ...,\n",
       "       [0., 0., 0., 0., 0., 0.],\n",
       "       [0., 0., 0., 0., 0., 0.],\n",
       "       [0., 0., 0., 0., 0., 0.]])"
      ]
     },
     "execution_count": 9,
     "metadata": {},
     "output_type": "execute_result"
    }
   ],
   "source": [
    "Q"
   ]
  },
  {
   "cell_type": "code",
   "execution_count": 11,
   "metadata": {
    "id": "Eg561r4BEkOw"
   },
   "outputs": [],
   "source": [
    "G=0 #G is for sum of rewards.\n",
    "alpha=0.618"
   ]
  },
  {
   "cell_type": "markdown",
   "metadata": {
    "id": "ydV63s1gGSnv"
   },
   "source": [
    "Now i will apply for 1 episode."
   ]
  },
  {
   "cell_type": "code",
   "execution_count": 12,
   "metadata": {
    "colab": {
     "base_uri": "https://localhost:8080/"
    },
    "id": "l6KIoCvWEsjq",
    "outputId": "78a62dd8-7cb6-4d1a-de9e-ac5fb0f9ecfb"
   },
   "outputs": [
    {
     "name": "stdout",
     "output_type": "stream",
     "text": [
      "all reward -2254\n"
     ]
    }
   ],
   "source": [
    "for episode in range(1,2):\n",
    "  done=False\n",
    "  G,reward=0,0\n",
    "  state=env.reset()\n",
    "  while reward!=20:\n",
    "    action=np.argmax(Q[state])\n",
    "    state2,reward,done,info=env.step(action)\n",
    "    Q[state,action]+=alpha*(reward+np.max(Q[state2])-Q[state,action])\n",
    "    G+=reward\n",
    "    state=state2\n",
    "\n",
    "print(\"all reward {}\".format(G))\n",
    "\n",
    "\n"
   ]
  },
  {
   "cell_type": "code",
   "execution_count": 13,
   "metadata": {
    "colab": {
     "base_uri": "https://localhost:8080/"
    },
    "id": "ro99kl6dKr9y",
    "outputId": "e0ee1d1c-96b3-415b-d7e4-f213b2519871"
   },
   "outputs": [
    {
     "data": {
      "text/plain": [
       "array([[ 0.        ,  0.        ,  0.        ,  0.        ,  0.        ,\n",
       "         0.        ],\n",
       "       [-1.854     , -1.854     , -1.617924  , -1.854     , -1.61797097,\n",
       "        -6.18      ],\n",
       "       [ 0.        ,  0.        ,  0.        ,  0.        ,  0.        ,\n",
       "         0.        ],\n",
       "       ...,\n",
       "       [-1.236     , -1.236     , -0.618     , -0.618     , -6.18      ,\n",
       "        -6.18      ],\n",
       "       [ 0.        ,  0.        ,  0.        ,  0.        ,  0.        ,\n",
       "         0.        ],\n",
       "       [ 0.        ,  0.        ,  0.        ,  0.        ,  0.        ,\n",
       "         0.        ]])"
      ]
     },
     "execution_count": 13,
     "metadata": {},
     "output_type": "execute_result"
    }
   ],
   "source": [
    "Q"
   ]
  },
  {
   "cell_type": "code",
   "execution_count": 14,
   "metadata": {
    "id": "nFQ4lxeSbFgO"
   },
   "outputs": [],
   "source": [
    "episodes=3000\n",
    "Q=np.zeros([n_states,n_actions])"
   ]
  },
  {
   "cell_type": "code",
   "execution_count": 15,
   "metadata": {
    "colab": {
     "base_uri": "https://localhost:8080/"
    },
    "id": "pS63y0ABKsyL",
    "outputId": "e9252bb5-c332-4701-a908-c7fd70b51c67"
   },
   "outputs": [
    {
     "name": "stdout",
     "output_type": "stream",
     "text": [
      "episode:100 sum of reward:-146\n",
      "episode:200 sum of reward:-28\n",
      "episode:300 sum of reward:10\n",
      "episode:400 sum of reward:9\n",
      "episode:500 sum of reward:5\n",
      "episode:600 sum of reward:6\n",
      "episode:700 sum of reward:6\n",
      "episode:800 sum of reward:6\n",
      "episode:900 sum of reward:14\n",
      "episode:1000 sum of reward:9\n",
      "episode:1100 sum of reward:4\n",
      "episode:1200 sum of reward:6\n",
      "episode:1300 sum of reward:9\n",
      "episode:1400 sum of reward:5\n",
      "episode:1500 sum of reward:9\n",
      "episode:1600 sum of reward:6\n",
      "episode:1700 sum of reward:15\n",
      "episode:1800 sum of reward:13\n",
      "episode:1900 sum of reward:7\n",
      "episode:2000 sum of reward:9\n",
      "episode:2100 sum of reward:8\n",
      "episode:2200 sum of reward:4\n",
      "episode:2300 sum of reward:4\n",
      "episode:2400 sum of reward:12\n",
      "episode:2500 sum of reward:7\n",
      "episode:2600 sum of reward:7\n",
      "episode:2700 sum of reward:4\n",
      "episode:2800 sum of reward:7\n",
      "episode:2900 sum of reward:3\n",
      "episode:3000 sum of reward:10\n"
     ]
    }
   ],
   "source": [
    "for episode in range(1,episodes+1):\n",
    "  done=False\n",
    "  G,reward=0,0\n",
    "  state=env.reset()\n",
    "  while reward!=20:\n",
    "    action=np.argmax(Q[state])\n",
    "    state2,reward,done,info=env.step(action)\n",
    "    Q[state,action]+=alpha*(reward+np.max(Q[state2])-Q[state,action])\n",
    "    G+=reward\n",
    "    state=state2\n",
    "  if episode%100==0:\n",
    "    print(\"episode:{} sum of reward:{}\".format(episode,G))\n",
    "\n"
   ]
  },
  {
   "cell_type": "code",
   "execution_count": 16,
   "metadata": {
    "id": "RGpw1B7SoAOl"
   },
   "outputs": [],
   "source": [
    "actions={\n",
    "          0:\"South\",\n",
    "          1:\"North\",\n",
    "          2:\"East\",\n",
    "          3:\"West\",\n",
    "          4:\"Pick Up\",\n",
    "          5:\"Drop off\"\n",
    "}"
   ]
  },
  {
   "cell_type": "code",
   "execution_count": 17,
   "metadata": {
    "colab": {
     "base_uri": "https://localhost:8080/"
    },
    "id": "9tmPbrfXa_Pj",
    "outputId": "15881767-62a8-4e09-84c6-c86e616fedcb"
   },
   "outputs": [],
   "source": [
    "state=env.reset()\n",
    "done=None"
   ]
  },
  {
   "cell_type": "code",
   "execution_count": 18,
   "metadata": {
    "colab": {
     "base_uri": "https://localhost:8080/",
     "height": 1000
    },
    "id": "YiiDemWxjN9H",
    "outputId": "4a017b25-8181-4d59-ebbd-6e29beda4c0a"
   },
   "outputs": [
    {
     "name": "stdout",
     "output_type": "stream",
     "text": [
      "\n",
      " West\n",
      "+---------+\n",
      "|\u001b[35mR\u001b[0m: | : :G|\n",
      "| : | : : |\n",
      "| : : : : |\n",
      "| | : | : |\n",
      "|\u001b[34;1mY\u001b[0m|\u001b[43m \u001b[0m: |B: |\n",
      "+---------+\n",
      "  (West)\n",
      "\n",
      " North\n",
      "+---------+\n",
      "|\u001b[35mR\u001b[0m: | : :G|\n",
      "| : | : : |\n",
      "| : : : : |\n",
      "| |\u001b[43m \u001b[0m: | : |\n",
      "|\u001b[34;1mY\u001b[0m| : |B: |\n",
      "+---------+\n",
      "  (North)\n",
      "\n",
      " North\n",
      "+---------+\n",
      "|\u001b[35mR\u001b[0m: | : :G|\n",
      "| : | : : |\n",
      "| :\u001b[43m \u001b[0m: : : |\n",
      "| | : | : |\n",
      "|\u001b[34;1mY\u001b[0m| : |B: |\n",
      "+---------+\n",
      "  (North)\n",
      "\n",
      " West\n",
      "+---------+\n",
      "|\u001b[35mR\u001b[0m: | : :G|\n",
      "| : | : : |\n",
      "|\u001b[43m \u001b[0m: : : : |\n",
      "| | : | : |\n",
      "|\u001b[34;1mY\u001b[0m| : |B: |\n",
      "+---------+\n",
      "  (West)\n",
      "\n",
      " South\n",
      "+---------+\n",
      "|\u001b[35mR\u001b[0m: | : :G|\n",
      "| : | : : |\n",
      "| : : : : |\n",
      "|\u001b[43m \u001b[0m| : | : |\n",
      "|\u001b[34;1mY\u001b[0m| : |B: |\n",
      "+---------+\n",
      "  (South)\n",
      "\n",
      " South\n",
      "+---------+\n",
      "|\u001b[35mR\u001b[0m: | : :G|\n",
      "| : | : : |\n",
      "| : : : : |\n",
      "| | : | : |\n",
      "|\u001b[34;1m\u001b[43mY\u001b[0m\u001b[0m| : |B: |\n",
      "+---------+\n",
      "  (South)\n",
      "\n",
      " Pick Up\n",
      "+---------+\n",
      "|\u001b[35mR\u001b[0m: | : :G|\n",
      "| : | : : |\n",
      "| : : : : |\n",
      "| | : | : |\n",
      "|\u001b[42mY\u001b[0m| : |B: |\n",
      "+---------+\n",
      "  (Pickup)\n",
      "\n",
      " North\n",
      "+---------+\n",
      "|\u001b[35mR\u001b[0m: | : :G|\n",
      "| : | : : |\n",
      "| : : : : |\n",
      "|\u001b[42m_\u001b[0m| : | : |\n",
      "|Y| : |B: |\n",
      "+---------+\n",
      "  (North)\n",
      "\n",
      " North\n",
      "+---------+\n",
      "|\u001b[35mR\u001b[0m: | : :G|\n",
      "| : | : : |\n",
      "|\u001b[42m_\u001b[0m: : : : |\n",
      "| | : | : |\n",
      "|Y| : |B: |\n",
      "+---------+\n",
      "  (North)\n",
      "\n",
      " North\n",
      "+---------+\n",
      "|\u001b[35mR\u001b[0m: | : :G|\n",
      "|\u001b[42m_\u001b[0m: | : : |\n",
      "| : : : : |\n",
      "| | : | : |\n",
      "|Y| : |B: |\n",
      "+---------+\n",
      "  (North)\n",
      "\n",
      " North\n",
      "+---------+\n",
      "|\u001b[35m\u001b[42mR\u001b[0m\u001b[0m: | : :G|\n",
      "| : | : : |\n",
      "| : : : : |\n",
      "| | : | : |\n",
      "|Y| : |B: |\n",
      "+---------+\n",
      "  (North)\n",
      "\n",
      " Drop off\n",
      "+---------+\n",
      "|\u001b[35m\u001b[34;1m\u001b[43mR\u001b[0m\u001b[0m\u001b[0m: | : :G|\n",
      "| : | : : |\n",
      "| : : : : |\n",
      "| | : | : |\n",
      "|Y| : |B: |\n",
      "+---------+\n",
      "  (Dropoff)\n"
     ]
    }
   ],
   "source": [
    "while done!=True:\n",
    "  action=np.argmax(Q[state])\n",
    "  state,reward,done,info=env.step(action)\n",
    "  output=actions.get(action)\n",
    "  print(\"\\n\",f\"{output}\")\n",
    "  img=env.render(mode=\"human\")\n",
    "#   plt.imshow(img)\n",
    "#   plt.show()\n"
   ]
  },
  {
   "cell_type": "code",
   "execution_count": null,
   "metadata": {
    "id": "jfpXOjbhhC29"
   },
   "outputs": [],
   "source": []
  }
 ],
 "metadata": {
  "accelerator": "TPU",
  "colab": {
   "provenance": [],
   "toc_visible": true
  },
  "kernelspec": {
   "display_name": "Python 3 (ipykernel)",
   "language": "python",
   "name": "python3"
  },
  "language_info": {
   "codemirror_mode": {
    "name": "ipython",
    "version": 3
   },
   "file_extension": ".py",
   "mimetype": "text/x-python",
   "name": "python",
   "nbconvert_exporter": "python",
   "pygments_lexer": "ipython3",
   "version": "3.8.3"
  }
 },
 "nbformat": 4,
 "nbformat_minor": 1
}
